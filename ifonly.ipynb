{
 "cells": [
  {
   "cell_type": "code",
   "execution_count": 1,
   "metadata": {},
   "outputs": [],
   "source": [
    "import numpy as np\n",
    "import pandas as pd\n",
    "import matplotlib.pylab as plt\n",
    "import seaborn as sns"
   ]
  },
  {
   "cell_type": "code",
   "execution_count": 2,
   "metadata": {},
   "outputs": [],
   "source": [
    "import warnings\n",
    "warnings.filterwarnings('ignore')"
   ]
  },
  {
   "cell_type": "code",
   "execution_count": 3,
   "metadata": {},
   "outputs": [],
   "source": [
    "%matplotlib inline"
   ]
  },
  {
   "cell_type": "code",
   "execution_count": 5,
   "metadata": {},
   "outputs": [],
   "source": [
    "data_dir = \"./\"\n",
    "data = pd.read_csv(data_dir + \"USD_JPY_2009-2019.csv\")"
   ]
  },
  {
   "cell_type": "code",
   "execution_count": 6,
   "metadata": {},
   "outputs": [
    {
     "data": {
      "text/html": [
       "<div>\n",
       "<style scoped>\n",
       "    .dataframe tbody tr th:only-of-type {\n",
       "        vertical-align: middle;\n",
       "    }\n",
       "\n",
       "    .dataframe tbody tr th {\n",
       "        vertical-align: top;\n",
       "    }\n",
       "\n",
       "    .dataframe thead th {\n",
       "        text-align: right;\n",
       "    }\n",
       "</style>\n",
       "<table border=\"1\" class=\"dataframe\">\n",
       "  <thead>\n",
       "    <tr style=\"text-align: right;\">\n",
       "      <th></th>\n",
       "      <th>Date</th>\n",
       "      <th>Open</th>\n",
       "      <th>High</th>\n",
       "      <th>Low</th>\n",
       "      <th>Close</th>\n",
       "    </tr>\n",
       "  </thead>\n",
       "  <tbody>\n",
       "    <tr>\n",
       "      <th>0</th>\n",
       "      <td>2009-01-05</td>\n",
       "      <td>92.11</td>\n",
       "      <td>93.55</td>\n",
       "      <td>91.80</td>\n",
       "      <td>93.19</td>\n",
       "    </tr>\n",
       "    <tr>\n",
       "      <th>1</th>\n",
       "      <td>2009-01-06</td>\n",
       "      <td>93.19</td>\n",
       "      <td>94.59</td>\n",
       "      <td>92.85</td>\n",
       "      <td>93.42</td>\n",
       "    </tr>\n",
       "    <tr>\n",
       "      <th>2</th>\n",
       "      <td>2009-01-07</td>\n",
       "      <td>93.43</td>\n",
       "      <td>94.12</td>\n",
       "      <td>92.33</td>\n",
       "      <td>92.55</td>\n",
       "    </tr>\n",
       "    <tr>\n",
       "      <th>3</th>\n",
       "      <td>2009-01-08</td>\n",
       "      <td>92.56</td>\n",
       "      <td>92.90</td>\n",
       "      <td>90.87</td>\n",
       "      <td>91.19</td>\n",
       "    </tr>\n",
       "    <tr>\n",
       "      <th>4</th>\n",
       "      <td>2009-01-09</td>\n",
       "      <td>91.19</td>\n",
       "      <td>91.57</td>\n",
       "      <td>90.15</td>\n",
       "      <td>90.38</td>\n",
       "    </tr>\n",
       "  </tbody>\n",
       "</table>\n",
       "</div>"
      ],
      "text/plain": [
       "         Date   Open   High    Low  Close\n",
       "0  2009-01-05  92.11  93.55  91.80  93.19\n",
       "1  2009-01-06  93.19  94.59  92.85  93.42\n",
       "2  2009-01-07  93.43  94.12  92.33  92.55\n",
       "3  2009-01-08  92.56  92.90  90.87  91.19\n",
       "4  2009-01-09  91.19  91.57  90.15  90.38"
      ]
     },
     "execution_count": 6,
     "metadata": {},
     "output_type": "execute_result"
    }
   ],
   "source": [
    "data.head()"
   ]
  },
  {
   "cell_type": "code",
   "execution_count": 7,
   "metadata": {},
   "outputs": [],
   "source": [
    "data['Change'] = data.Close - data.Open"
   ]
  },
  {
   "cell_type": "code",
   "execution_count": 8,
   "metadata": {},
   "outputs": [
    {
     "data": {
      "text/html": [
       "<div>\n",
       "<style scoped>\n",
       "    .dataframe tbody tr th:only-of-type {\n",
       "        vertical-align: middle;\n",
       "    }\n",
       "\n",
       "    .dataframe tbody tr th {\n",
       "        vertical-align: top;\n",
       "    }\n",
       "\n",
       "    .dataframe thead th {\n",
       "        text-align: right;\n",
       "    }\n",
       "</style>\n",
       "<table border=\"1\" class=\"dataframe\">\n",
       "  <thead>\n",
       "    <tr style=\"text-align: right;\">\n",
       "      <th></th>\n",
       "      <th>Date</th>\n",
       "      <th>Open</th>\n",
       "      <th>High</th>\n",
       "      <th>Low</th>\n",
       "      <th>Close</th>\n",
       "      <th>Change</th>\n",
       "    </tr>\n",
       "  </thead>\n",
       "  <tbody>\n",
       "    <tr>\n",
       "      <th>0</th>\n",
       "      <td>2009-01-05</td>\n",
       "      <td>92.11</td>\n",
       "      <td>93.55</td>\n",
       "      <td>91.80</td>\n",
       "      <td>93.19</td>\n",
       "      <td>1.08</td>\n",
       "    </tr>\n",
       "    <tr>\n",
       "      <th>1</th>\n",
       "      <td>2009-01-06</td>\n",
       "      <td>93.19</td>\n",
       "      <td>94.59</td>\n",
       "      <td>92.85</td>\n",
       "      <td>93.42</td>\n",
       "      <td>0.23</td>\n",
       "    </tr>\n",
       "    <tr>\n",
       "      <th>2</th>\n",
       "      <td>2009-01-07</td>\n",
       "      <td>93.43</td>\n",
       "      <td>94.12</td>\n",
       "      <td>92.33</td>\n",
       "      <td>92.55</td>\n",
       "      <td>-0.88</td>\n",
       "    </tr>\n",
       "    <tr>\n",
       "      <th>3</th>\n",
       "      <td>2009-01-08</td>\n",
       "      <td>92.56</td>\n",
       "      <td>92.90</td>\n",
       "      <td>90.87</td>\n",
       "      <td>91.19</td>\n",
       "      <td>-1.37</td>\n",
       "    </tr>\n",
       "    <tr>\n",
       "      <th>4</th>\n",
       "      <td>2009-01-09</td>\n",
       "      <td>91.19</td>\n",
       "      <td>91.57</td>\n",
       "      <td>90.15</td>\n",
       "      <td>90.38</td>\n",
       "      <td>-0.81</td>\n",
       "    </tr>\n",
       "  </tbody>\n",
       "</table>\n",
       "</div>"
      ],
      "text/plain": [
       "         Date   Open   High    Low  Close  Change\n",
       "0  2009-01-05  92.11  93.55  91.80  93.19    1.08\n",
       "1  2009-01-06  93.19  94.59  92.85  93.42    0.23\n",
       "2  2009-01-07  93.43  94.12  92.33  92.55   -0.88\n",
       "3  2009-01-08  92.56  92.90  90.87  91.19   -1.37\n",
       "4  2009-01-09  91.19  91.57  90.15  90.38   -0.81"
      ]
     },
     "execution_count": 8,
     "metadata": {},
     "output_type": "execute_result"
    }
   ],
   "source": [
    "data.head()"
   ]
  },
  {
   "cell_type": "code",
   "execution_count": 15,
   "metadata": {},
   "outputs": [],
   "source": [
    "data2017 = data[data['Date'].str.match('2017.*')]"
   ]
  },
  {
   "cell_type": "code",
   "execution_count": 16,
   "metadata": {
    "scrolled": true
   },
   "outputs": [
    {
     "data": {
      "text/html": [
       "<div>\n",
       "<style scoped>\n",
       "    .dataframe tbody tr th:only-of-type {\n",
       "        vertical-align: middle;\n",
       "    }\n",
       "\n",
       "    .dataframe tbody tr th {\n",
       "        vertical-align: top;\n",
       "    }\n",
       "\n",
       "    .dataframe thead th {\n",
       "        text-align: right;\n",
       "    }\n",
       "</style>\n",
       "<table border=\"1\" class=\"dataframe\">\n",
       "  <thead>\n",
       "    <tr style=\"text-align: right;\">\n",
       "      <th></th>\n",
       "      <th>Date</th>\n",
       "      <th>Open</th>\n",
       "      <th>High</th>\n",
       "      <th>Low</th>\n",
       "      <th>Close</th>\n",
       "      <th>Change</th>\n",
       "    </tr>\n",
       "  </thead>\n",
       "  <tbody>\n",
       "    <tr>\n",
       "      <th>2073</th>\n",
       "      <td>2017-01-02</td>\n",
       "      <td>116.882</td>\n",
       "      <td>117.661</td>\n",
       "      <td>116.882</td>\n",
       "      <td>117.316</td>\n",
       "      <td>0.434</td>\n",
       "    </tr>\n",
       "    <tr>\n",
       "      <th>2074</th>\n",
       "      <td>2017-01-03</td>\n",
       "      <td>117.314</td>\n",
       "      <td>118.606</td>\n",
       "      <td>117.226</td>\n",
       "      <td>117.698</td>\n",
       "      <td>0.384</td>\n",
       "    </tr>\n",
       "    <tr>\n",
       "      <th>2075</th>\n",
       "      <td>2017-01-04</td>\n",
       "      <td>117.696</td>\n",
       "      <td>118.188</td>\n",
       "      <td>117.061</td>\n",
       "      <td>117.273</td>\n",
       "      <td>-0.423</td>\n",
       "    </tr>\n",
       "    <tr>\n",
       "      <th>2076</th>\n",
       "      <td>2017-01-05</td>\n",
       "      <td>117.276</td>\n",
       "      <td>117.431</td>\n",
       "      <td>115.231</td>\n",
       "      <td>115.445</td>\n",
       "      <td>-1.831</td>\n",
       "    </tr>\n",
       "    <tr>\n",
       "      <th>2077</th>\n",
       "      <td>2017-01-06</td>\n",
       "      <td>115.445</td>\n",
       "      <td>117.177</td>\n",
       "      <td>115.075</td>\n",
       "      <td>116.996</td>\n",
       "      <td>1.551</td>\n",
       "    </tr>\n",
       "  </tbody>\n",
       "</table>\n",
       "</div>"
      ],
      "text/plain": [
       "            Date     Open     High      Low    Close  Change\n",
       "2073  2017-01-02  116.882  117.661  116.882  117.316   0.434\n",
       "2074  2017-01-03  117.314  118.606  117.226  117.698   0.384\n",
       "2075  2017-01-04  117.696  118.188  117.061  117.273  -0.423\n",
       "2076  2017-01-05  117.276  117.431  115.231  115.445  -1.831\n",
       "2077  2017-01-06  115.445  117.177  115.075  116.996   1.551"
      ]
     },
     "execution_count": 16,
     "metadata": {},
     "output_type": "execute_result"
    }
   ],
   "source": [
    "data2017.head()"
   ]
  },
  {
   "cell_type": "code",
   "execution_count": 17,
   "metadata": {},
   "outputs": [],
   "source": [
    "data2018 = data[data['Date'].str.match('2018.*')]"
   ]
  },
  {
   "cell_type": "code",
   "execution_count": 19,
   "metadata": {},
   "outputs": [
    {
     "data": {
      "text/html": [
       "<div>\n",
       "<style scoped>\n",
       "    .dataframe tbody tr th:only-of-type {\n",
       "        vertical-align: middle;\n",
       "    }\n",
       "\n",
       "    .dataframe tbody tr th {\n",
       "        vertical-align: top;\n",
       "    }\n",
       "\n",
       "    .dataframe thead th {\n",
       "        text-align: right;\n",
       "    }\n",
       "</style>\n",
       "<table border=\"1\" class=\"dataframe\">\n",
       "  <thead>\n",
       "    <tr style=\"text-align: right;\">\n",
       "      <th></th>\n",
       "      <th>Date</th>\n",
       "      <th>Open</th>\n",
       "      <th>High</th>\n",
       "      <th>Low</th>\n",
       "      <th>Close</th>\n",
       "      <th>Change</th>\n",
       "    </tr>\n",
       "  </thead>\n",
       "  <tbody>\n",
       "    <tr>\n",
       "      <th>2332</th>\n",
       "      <td>2018-01-02</td>\n",
       "      <td>112.602</td>\n",
       "      <td>112.793</td>\n",
       "      <td>112.057</td>\n",
       "      <td>112.232</td>\n",
       "      <td>-0.370</td>\n",
       "    </tr>\n",
       "    <tr>\n",
       "      <th>2333</th>\n",
       "      <td>2018-01-03</td>\n",
       "      <td>112.231</td>\n",
       "      <td>112.609</td>\n",
       "      <td>112.173</td>\n",
       "      <td>112.546</td>\n",
       "      <td>0.315</td>\n",
       "    </tr>\n",
       "    <tr>\n",
       "      <th>2334</th>\n",
       "      <td>2018-01-04</td>\n",
       "      <td>112.547</td>\n",
       "      <td>112.866</td>\n",
       "      <td>112.491</td>\n",
       "      <td>112.777</td>\n",
       "      <td>0.230</td>\n",
       "    </tr>\n",
       "    <tr>\n",
       "      <th>2335</th>\n",
       "      <td>2018-01-05</td>\n",
       "      <td>112.777</td>\n",
       "      <td>113.309</td>\n",
       "      <td>112.724</td>\n",
       "      <td>113.116</td>\n",
       "      <td>0.339</td>\n",
       "    </tr>\n",
       "    <tr>\n",
       "      <th>2336</th>\n",
       "      <td>2018-01-08</td>\n",
       "      <td>113.113</td>\n",
       "      <td>113.387</td>\n",
       "      <td>112.884</td>\n",
       "      <td>113.157</td>\n",
       "      <td>0.044</td>\n",
       "    </tr>\n",
       "  </tbody>\n",
       "</table>\n",
       "</div>"
      ],
      "text/plain": [
       "            Date     Open     High      Low    Close  Change\n",
       "2332  2018-01-02  112.602  112.793  112.057  112.232  -0.370\n",
       "2333  2018-01-03  112.231  112.609  112.173  112.546   0.315\n",
       "2334  2018-01-04  112.547  112.866  112.491  112.777   0.230\n",
       "2335  2018-01-05  112.777  113.309  112.724  113.116   0.339\n",
       "2336  2018-01-08  113.113  113.387  112.884  113.157   0.044"
      ]
     },
     "execution_count": 19,
     "metadata": {},
     "output_type": "execute_result"
    }
   ],
   "source": [
    "data2018.head()"
   ]
  },
  {
   "cell_type": "code",
   "execution_count": 20,
   "metadata": {},
   "outputs": [],
   "source": [
    "sum_2017 = 0\n",
    "for i in range(2,len(data2017)):\n",
    "    if data2017.iloc[i-2,4] <= data2017.iloc[i-1,4]:\n",
    "        sum_2017 += data2017.iloc[i,5]\n",
    "    else:\n",
    "        sum_2017 -= data2017.iloc[i,5]"
   ]
  },
  {
   "cell_type": "code",
   "execution_count": 21,
   "metadata": {},
   "outputs": [
    {
     "name": "stdout",
     "output_type": "stream",
     "text": [
      "2017:-5.401\n"
     ]
    }
   ],
   "source": [
    "print(\"2017:%1.3lf\" %sum_2017)"
   ]
  },
  {
   "cell_type": "code",
   "execution_count": 22,
   "metadata": {},
   "outputs": [],
   "source": [
    "sum_2018 = 0\n",
    "for i in range(2,len(data2018)):\n",
    "    if data2018.iloc[i-2,4] <= data2018.iloc[i-1,4]:\n",
    "        sum_2018 += data2018.iloc[i,5]\n",
    "    else:\n",
    "        sum_2018 -= data2018.iloc[i,5]"
   ]
  },
  {
   "cell_type": "code",
   "execution_count": 23,
   "metadata": {},
   "outputs": [
    {
     "name": "stdout",
     "output_type": "stream",
     "text": [
      "2018:-8.186\n"
     ]
    }
   ],
   "source": [
    "print(\"2018:%1.3lf\" %sum_2018)"
   ]
  },
  {
   "cell_type": "code",
   "execution_count": 30,
   "metadata": {},
   "outputs": [
    {
     "data": {
      "text/plain": [
       "[<matplotlib.lines.Line2D at 0x7f81efe2ec50>]"
      ]
     },
     "execution_count": 30,
     "metadata": {},
     "output_type": "execute_result"
    },
    {
     "data": {
      "image/png": "[encoded data removed]",
      "text/plain": [
       "<Figure size 432x288 with 1 Axes>"
      ]
     },
     "metadata": {},
     "output_type": "display_data"
    }
   ],
   "source": [
    "plt.style.use('seaborn-darkgrid')\n",
    "plt.plot(data2017['Close'])\n",
    "plt.plot(data2018['Close'])"
   ]
  },
  {
   "cell_type": "code",
   "execution_count": null,
   "metadata": {},
   "outputs": [],
   "source": []
  }
 ],
 "metadata": {
  "kernelspec": {
   "display_name": "Python 3",
   "language": "python",
   "name": "python3"
  },
  "language_info": {
   "codemirror_mode": {
    "name": "ipython",
    "version": 3
   },
   "file_extension": ".py",
   "mimetype": "text/x-python",
   "name": "python",
   "nbconvert_exporter": "python",
   "pygments_lexer": "ipython3",
   "version": "3.6.6"
  }
 },
 "nbformat": 4,
 "nbformat_minor": 2
}
