{
 "cells": [
  {
   "cell_type": "code",
   "execution_count": 1,
   "metadata": {
    "scrolled": true
   },
   "outputs": [
    {
     "name": "stdout",
     "output_type": "stream",
     "text": [
      "Once deleted, variables cannot be recovered. Proceed (y/[n])? y\n"
     ]
    }
   ],
   "source": [
    "%reset"
   ]
  },
  {
   "cell_type": "code",
   "execution_count": 2,
   "metadata": {},
   "outputs": [],
   "source": [
    "import numpy as np\n",
    "import pandas as pd\n",
    "import matplotlib.pylab as plt\n",
    "import seaborn as sns"
   ]
  },
  {
   "cell_type": "code",
   "execution_count": 3,
   "metadata": {},
   "outputs": [],
   "source": [
    "import warnings\n",
    "warnings.filterwarnings('ignore')"
   ]
  },
  {
   "cell_type": "code",
   "execution_count": 4,
   "metadata": {},
   "outputs": [],
   "source": [
    "%matplotlib inline\n",
    "np.set_printoptions(threshold = 1000)# to display no cut matrix -> 'np.inf'"
   ]
  },
  {
   "cell_type": "code",
   "execution_count": 5,
   "metadata": {},
   "outputs": [],
   "source": [
    "data_dir = \"./\"\n",
    "data = pd.read_csv(data_dir + \"USD_JPY_2009-2019.csv\")"
   ]
  },
  {
   "cell_type": "code",
   "execution_count": 6,
   "metadata": {
    "scrolled": true
   },
   "outputs": [
    {
     "data": {
      "text/plain": [
       "array([['2009-01-05', 92.11, 93.55, 91.8, 93.19],\n",
       "       ['2009-01-06', 93.19, 94.59, 92.85, 93.42],\n",
       "       ['2009-01-07', 93.43, 94.12, 92.33, 92.55],\n",
       "       ...,\n",
       "       ['2019-02-18', 110.50399999999999, 110.65799999999999, 110.459,\n",
       "        110.616],\n",
       "       ['2019-02-19', 110.616, 110.823, 110.456, 110.586],\n",
       "       ['2019-02-20', 110.587, 110.95, 110.565, 110.804]], dtype=object)"
      ]
     },
     "execution_count": 6,
     "metadata": {},
     "output_type": "execute_result"
    }
   ],
   "source": [
    "data2 = np.array(data)\n",
    "data2"
   ]
  },
  {
   "cell_type": "code",
   "execution_count": 7,
   "metadata": {},
   "outputs": [],
   "source": [
    "#5-day moving average line\n",
    "data2 = np.c_[data2, np.zeros((len(data2), 1))]\n",
    "ave_days = 5\n",
    "for i in range(ave_days, len(data2) + 1):\n",
    "    tmp = data2[i - ave_days:i, 4].astype(np.float)\n",
    "    data2[i - 1, 5] = np.mean(tmp)"
   ]
  },
  {
   "cell_type": "code",
   "execution_count": 8,
   "metadata": {},
   "outputs": [],
   "source": [
    "#25-day moving average line\n",
    "data2 = np.c_[data2, np.zeros((len(data2), 1))]\n",
    "ave_days = 25\n",
    "for i in range(ave_days, len(data2) + 1):\n",
    "    tmp = data2[i-ave_days:i, 4].astype(np.float)\n",
    "    data2[i - 1, 6] = np.mean(tmp)"
   ]
  },
  {
   "cell_type": "code",
   "execution_count": 9,
   "metadata": {},
   "outputs": [],
   "source": [
    "#75-day moving average line\n",
    "data2 = np.c_[data2, np.zeros((len(data2), 1))]\n",
    "ave_days = 75\n",
    "for i in range(ave_days, len(data2) + 1):\n",
    "    tmp = data2[i - ave_days:i, 4].astype(np.float)\n",
    "    data2[i - 1, 7] = np.mean(tmp)"
   ]
  },
  {
   "cell_type": "code",
   "execution_count": 10,
   "metadata": {},
   "outputs": [],
   "source": [
    "#200-day moving average line\n",
    "data2 = np.c_[data2, np.zeros((len(data2), 1))]\n",
    "ave_days = 200\n",
    "for i in range(ave_days, len(data2) + 1):\n",
    "    tmp = data2[i - ave_days:i, 4].astype(np.float)\n",
    "    data2[i - 1, 8] = np.mean(tmp)"
   ]
  },
  {
   "cell_type": "code",
   "execution_count": 11,
   "metadata": {
    "scrolled": true
   },
   "outputs": [
    {
     "data": {
      "text/plain": [
       "array([['2009-01-05', 92.11, 93.55, ..., 0.0, 0.0, 0.0],\n",
       "       ['2009-01-06', 93.19, 94.59, ..., 0.0, 0.0, 0.0],\n",
       "       ['2009-01-07', 93.43, 94.12, ..., 0.0, 0.0, 0.0],\n",
       "       ...,\n",
       "       ['2019-02-18', 110.50399999999999, 110.65799999999999, ...,\n",
       "        109.72884, 111.23270666666666, 111.275945],\n",
       "       ['2019-02-19', 110.616, 110.823, ..., 109.80616,\n",
       "        111.19766666666665, 111.282305],\n",
       "       ['2019-02-20', 110.587, 110.95, ..., 109.87348, 111.16568,\n",
       "        111.28786]], dtype=object)"
      ]
     },
     "execution_count": 11,
     "metadata": {},
     "output_type": "execute_result"
    }
   ],
   "source": [
    "data2"
   ]
  },
  {
   "cell_type": "code",
   "execution_count": 12,
   "metadata": {},
   "outputs": [],
   "source": [
    "# ichimoku\n",
    "para1 = 9\n",
    "para2 = 26\n",
    "para3 = 52"
   ]
  },
  {
   "cell_type": "code",
   "execution_count": 13,
   "metadata": {},
   "outputs": [],
   "source": [
    "data2 = np.c_[data2,np.zeros((len(data2), 1))] # Conversion line\n",
    "for i in range(para1, len(data2) + 1):\n",
    "    tmp_high = data2[i - para1:i, 2].astype(np.float)\n",
    "    tmp_low = data2[i - para1:i, 3].astype(np.float)\n",
    "    data2[i - 1, 9] = (np.max(tmp_high) + np.min(tmp_low)) / 2"
   ]
  },
  {
   "cell_type": "code",
   "execution_count": 14,
   "metadata": {},
   "outputs": [],
   "source": [
    "data2 = np.c_[data2,np.zeros((len(data2), 1))] # Base line\n",
    "for i in range(para2, len(data2) + 1):\n",
    "    tmp_high = data2[i - para2:i, 2].astype(np.float)\n",
    "    tmp_low = data2[i - para2:i, 3].astype(np.float)\n",
    "    data2[i - 1, 10] = (np.max(tmp_high) + np.min(tmp_low)) / 2"
   ]
  },
  {
   "cell_type": "code",
   "execution_count": 15,
   "metadata": {},
   "outputs": [],
   "source": [
    "data2 = np.c_[data2,np.zeros((len(data2), 1))] # leading span 1\n",
    "for i in range(0, len(data2) - para2):\n",
    "    tmp = (data2[i, 9] + data2[i, 10]) / 2\n",
    "    data2[i + para2, 11] = tmp"
   ]
  },
  {
   "cell_type": "code",
   "execution_count": 16,
   "metadata": {
    "scrolled": true
   },
   "outputs": [
    {
     "data": {
      "text/plain": [
       "array(['2009-01-06', 93.19, 94.59, 92.85, 93.42, 0.0, 0.0, 0.0, 0.0, 0.0,\n",
       "       0.0, 0.0], dtype=object)"
      ]
     },
     "execution_count": 16,
     "metadata": {},
     "output_type": "execute_result"
    }
   ],
   "source": [
    "data2[1]"
   ]
  },
  {
   "cell_type": "code",
   "execution_count": 17,
   "metadata": {},
   "outputs": [],
   "source": [
    "data2 = np.c_[data2,np.zeros((len(data2), 1))] # leading span 2\n",
    "for i in range(para3, len(data2) - para2 + 1):\n",
    "    tmp_high = data2[i - para3:i, 2].astype(np.float)\n",
    "    tmp_low = data2[i - para3:i, 3].astype(np.float)\n",
    "    data2[i + para2 - 1, 12] = (np.max(tmp_high) + np.min(tmp_low)) / 2\n",
    "    "
   ]
  },
  {
   "cell_type": "code",
   "execution_count": 18,
   "metadata": {
    "scrolled": true
   },
   "outputs": [
    {
     "data": {
      "text/plain": [
       "array([['2009-01-05', 92.11, 93.55, ..., 0.0, 0.0, 0.0],\n",
       "       ['2009-01-06', 93.19, 94.59, ..., 0.0, 0.0, 0.0],\n",
       "       ['2009-01-07', 93.43, 94.12, ..., 0.0, 0.0, 0.0],\n",
       "       ...,\n",
       "       ['2019-02-18', 110.50399999999999, 110.65799999999999, ...,\n",
       "        109.557, 108.4745, 109.53150000000001],\n",
       "       ['2019-02-19', 110.616, 110.823, ..., 109.63300000000001,\n",
       "        108.28725, 109.53150000000001],\n",
       "       ['2019-02-20', 110.587, 110.95, ..., 109.7495, 108.57024999999999,\n",
       "        109.53150000000001]], dtype=object)"
      ]
     },
     "execution_count": 18,
     "metadata": {},
     "output_type": "execute_result"
    }
   ],
   "source": [
    "data2"
   ]
  },
  {
   "cell_type": "code",
   "execution_count": 19,
   "metadata": {},
   "outputs": [],
   "source": [
    "# 25-day Bollinger Bands\n",
    "day = 25\n",
    "data2 = np.c_[data2,np.zeros((len(data2), 4))]\n",
    "for i in range(day, len(data2) + 1):\n",
    "    tmp = data2[i - day:i, 4].astype(np.float)\n",
    "    data2[i - 1, 13] = np.mean(tmp) + 1.0 * np.std(tmp)\n",
    "    data2[i - 1, 14] = np.mean(tmp) - 1.0 * np.std(tmp)\n",
    "    data2[i - 1, 15] = np.mean(tmp) + 2.0 * np.std(tmp)\n",
    "    data2[i - 1, 16] = np.mean(tmp) - 2.0 * np.std(tmp)"
   ]
  },
  {
   "cell_type": "code",
   "execution_count": 20,
   "metadata": {
    "scrolled": true
   },
   "outputs": [
    {
     "data": {
      "text/plain": [
       "array(['2009-10-09', 88.37, 89.87, 88.35, 89.75, 89.002, 90.5684,\n",
       "       93.21853333333334, 94.69743999999999, 89.20500000000001, 90.65,\n",
       "       94.1875, 94.75999999999999, 91.75226715470951, 89.38453284529048,\n",
       "       92.93613430941902, 88.20066569058098], dtype=object)"
      ]
     },
     "execution_count": 20,
     "metadata": {},
     "output_type": "execute_result"
    }
   ],
   "source": [
    "data2[199]"
   ]
  },
  {
   "cell_type": "code",
   "execution_count": 21,
   "metadata": {},
   "outputs": [],
   "source": [
    "day_ago = 25\n",
    "index_num = 1 + 4 + 4 + 4\n",
    "\n",
    "X = np.zeros((len(data2), day_ago * index_num))\n",
    "\n",
    "for j in range(0, index_num):\n",
    "    for i in range(0, day_ago):\n",
    "        X[i:len(data2), day_ago * j + i] = data2[0:len(data2) - i, j + 4]"
   ]
  },
  {
   "cell_type": "code",
   "execution_count": 22,
   "metadata": {
    "scrolled": true
   },
   "outputs": [],
   "source": [
    "#show_data = pd.DataFrame(X)\n",
    "#show_data"
   ]
  },
  {
   "cell_type": "code",
   "execution_count": 23,
   "metadata": {},
   "outputs": [],
   "source": [
    "Y = np.zeros(len(data2))\n",
    "\n",
    "pre_day = 1\n",
    "Y[0:len(Y) - pre_day] = X[pre_day:len(X), 0] - X[0:len(X) - pre_day, 0]"
   ]
  },
  {
   "cell_type": "code",
   "execution_count": 24,
   "metadata": {},
   "outputs": [],
   "source": [
    "#show_data = pd.DataFrame(Y)\n",
    "#show_data"
   ]
  },
  {
   "cell_type": "code",
   "execution_count": 25,
   "metadata": {},
   "outputs": [],
   "source": [
    "# X,Y normalization\n",
    "origin_X = np.copy(X)\n",
    "tmp_mean = np.zeros(len(X))\n",
    "\n",
    "for i in range(day_ago, len(X)):\n",
    "    tmp_mean[i] = np.mean(origin_X[i - day_ago:i, 0])\n",
    "    for j in range(0, X.shape[1]):\n",
    "        X[i, j] = (X[i, j] - tmp_mean[i])\n",
    "    Y[i] = Y[i]"
   ]
  },
  {
   "cell_type": "code",
   "execution_count": 26,
   "metadata": {},
   "outputs": [
    {
     "data": {
      "text/html": [
       "<div>\n",
       "<style scoped>\n",
       "    .dataframe tbody tr th:only-of-type {\n",
       "        vertical-align: middle;\n",
       "    }\n",
       "\n",
       "    .dataframe tbody tr th {\n",
       "        vertical-align: top;\n",
       "    }\n",
       "\n",
       "    .dataframe thead th {\n",
       "        text-align: right;\n",
       "    }\n",
       "</style>\n",
       "<table border=\"1\" class=\"dataframe\">\n",
       "  <thead>\n",
       "    <tr style=\"text-align: right;\">\n",
       "      <th></th>\n",
       "      <th>Date</th>\n",
       "      <th>Open</th>\n",
       "      <th>High</th>\n",
       "      <th>Low</th>\n",
       "      <th>Close</th>\n",
       "    </tr>\n",
       "  </thead>\n",
       "  <tbody>\n",
       "    <tr>\n",
       "      <th>2332</th>\n",
       "      <td>2018-01-02</td>\n",
       "      <td>112.602</td>\n",
       "      <td>112.793</td>\n",
       "      <td>112.057</td>\n",
       "      <td>112.232</td>\n",
       "    </tr>\n",
       "    <tr>\n",
       "      <th>2333</th>\n",
       "      <td>2018-01-03</td>\n",
       "      <td>112.231</td>\n",
       "      <td>112.609</td>\n",
       "      <td>112.173</td>\n",
       "      <td>112.546</td>\n",
       "    </tr>\n",
       "    <tr>\n",
       "      <th>2334</th>\n",
       "      <td>2018-01-04</td>\n",
       "      <td>112.547</td>\n",
       "      <td>112.866</td>\n",
       "      <td>112.491</td>\n",
       "      <td>112.777</td>\n",
       "    </tr>\n",
       "    <tr>\n",
       "      <th>2335</th>\n",
       "      <td>2018-01-05</td>\n",
       "      <td>112.777</td>\n",
       "      <td>113.309</td>\n",
       "      <td>112.724</td>\n",
       "      <td>113.116</td>\n",
       "    </tr>\n",
       "    <tr>\n",
       "      <th>2336</th>\n",
       "      <td>2018-01-08</td>\n",
       "      <td>113.113</td>\n",
       "      <td>113.387</td>\n",
       "      <td>112.884</td>\n",
       "      <td>113.157</td>\n",
       "    </tr>\n",
       "  </tbody>\n",
       "</table>\n",
       "</div>"
      ],
      "text/plain": [
       "            Date     Open     High      Low    Close\n",
       "2332  2018-01-02  112.602  112.793  112.057  112.232\n",
       "2333  2018-01-03  112.231  112.609  112.173  112.546\n",
       "2334  2018-01-04  112.547  112.866  112.491  112.777\n",
       "2335  2018-01-05  112.777  113.309  112.724  113.116\n",
       "2336  2018-01-08  113.113  113.387  112.884  113.157"
      ]
     },
     "execution_count": 26,
     "metadata": {},
     "output_type": "execute_result"
    }
   ],
   "source": [
    "data[data['Date'].str.match('2018.*')].head()"
   ]
  },
  {
   "cell_type": "code",
   "execution_count": 27,
   "metadata": {},
   "outputs": [],
   "source": [
    "X_train = X[200:2332]\n",
    "Y_train = Y[200:2332]\n",
    "\n",
    "X_test = X[2332:len(X) - pre_day, :]\n",
    "Y_test = Y[2332:len(Y) - pre_day]"
   ]
  },
  {
   "cell_type": "code",
   "execution_count": 34,
   "metadata": {},
   "outputs": [
    {
     "data": {
      "text/plain": [
       "LinearRegression(copy_X=True, fit_intercept=True, n_jobs=None,\n",
       "         normalize=False)"
      ]
     },
     "execution_count": 34,
     "metadata": {},
     "output_type": "execute_result"
    }
   ],
   "source": [
    "# linear regression\n",
    "from sklearn import linear_model\n",
    "linear_reg_model = linear_model.LinearRegression()\n",
    "\n",
    "linear_reg_model.fit(X_train, Y_train)"
   ]
  },
  {
   "cell_type": "code",
   "execution_count": 29,
   "metadata": {},
   "outputs": [
    {
     "name": "stdout",
     "output_type": "stream",
     "text": [
      "0.03300723107715485\n",
      "[ 2.51534168e+11  2.71698033e+11  2.34014890e+11  1.71634976e+11\n",
      "  1.66191547e+11 -4.74332286e+08  4.18680457e+10  6.19645667e+10\n",
      "  5.51757409e+10  5.80205185e+10  4.59054511e+10  4.09410664e+10\n",
      "  3.44142544e+10  3.48522610e+10  3.95598326e+10  4.47309426e+10\n",
      "  5.02898112e+10  5.56977795e+10  6.60264918e+10  6.55381949e+10\n",
      "  6.54999557e+10  2.39922954e+09  2.11046947e+10  7.95067160e+10\n",
      "  7.78860921e+10 -8.18407672e+11  2.52436009e+11  1.35351735e+11\n",
      "  5.35135383e+10  8.80371013e+10  1.49217260e+10  4.07241193e+10\n",
      "  3.48691298e+10  8.74576674e+10  7.38132130e+10  7.54970630e+10\n",
      "  6.55460429e+10  6.75031897e+10  8.52676344e+10  5.02753550e+10\n",
      "  4.96415132e+10  3.77517000e+10  4.04633477e+10  3.36240732e+10\n",
      "  5.27168395e+10  4.98327091e+10  3.53255331e+11 -5.30639779e+10\n",
      " -2.58386033e+11  6.08199586e+10 -4.46012944e+11  3.93616356e+09\n",
      "  5.03021590e+10  2.61135783e+11 -5.66959224e+10 -1.89348318e+10\n",
      " -6.04804592e+09 -1.13509882e+09 -5.67367870e+09  7.60451617e+09\n",
      " -3.63204295e+09 -3.65599363e+09  7.15546552e+09  2.62041618e+10\n",
      " -1.12261288e+10  5.13876159e+09  2.11049336e+09  7.34856957e+09\n",
      " -7.01100408e+09  1.70691527e+10 -6.93970997e+09 -5.74758360e+09\n",
      "  4.06348704e+09 -2.96344483e+09 -5.50914025e+09  1.23403168e+00\n",
      " -2.85496140e+00  1.43560791e+00 -2.96107864e+00  6.47389603e+00\n",
      " -2.29944611e+00 -3.39413261e+00  3.15854645e+00 -1.53850555e+00\n",
      "  1.17667961e+00  2.94046402e+00 -7.33388519e+00  8.51825333e+00\n",
      " -7.41273117e+00  9.75994110e-01  4.24474716e+00 -7.66290092e+00\n",
      "  8.63030243e+00 -1.85811424e+00 -4.67133522e-01 -5.44758320e+00\n",
      "  5.72533798e+00 -2.40644455e+00  2.42796707e+00 -1.37718773e+00\n",
      " -1.09550095e+00  1.07930756e+00 -2.73132324e-03  1.72729492e-02\n",
      " -1.18179321e-02 -6.53076172e-03  4.53186035e-03  6.40869141e-03\n",
      " -1.61743164e-03  3.44085693e-03 -2.88391113e-03 -8.68225098e-03\n",
      " -4.69970703e-03  1.82571411e-02 -2.43644714e-02  1.88522339e-02\n",
      " -5.28717041e-03  9.14001465e-03 -6.00814819e-03 -1.25350952e-02\n",
      "  1.02996826e-02 -8.50677490e-04  4.01878357e-03  2.89916992e-03\n",
      " -6.41632080e-03 -1.36764526e-01  1.86157227e-02  1.35349274e-01\n",
      " -2.83546448e-01  1.53602600e-01  7.94696808e-02  3.24592590e-02\n",
      " -1.47371292e-02 -1.90823555e-01  1.72226906e-01 -1.27799988e-01\n",
      "  6.71072006e-02 -1.58515930e-01  1.39938354e-01  8.88519287e-02\n",
      "  8.98971558e-02 -2.50991821e-01  3.92150879e-02  9.03244019e-02\n",
      "  9.73510742e-03 -2.37888336e-01  3.63273621e-01 -2.81394958e-01\n",
      "  1.51817322e-01 -4.23564911e-02  6.20193481e-02 -2.41127014e-01\n",
      "  3.35578918e-02  3.55453491e-01 -3.24192047e-01  1.10324860e-01\n",
      " -7.35054016e-02  2.65064240e-01 -5.92994690e-02 -1.49734497e-01\n",
      " -1.02844238e-01  1.73770905e-01 -2.31590271e-02 -1.60411835e-01\n",
      "  2.04719543e-01 -9.20295715e-02  6.82735443e-02 -1.27994537e-01\n",
      "  2.34161377e-01 -1.66603088e-01  3.13123703e-01 -3.68347168e-01\n",
      "  2.70408630e-01 -6.20231628e-02 -3.01361084e-03  3.38611603e-02\n",
      "  2.69008636e-01 -5.36020279e-01  4.22763824e-03  2.67911911e-01\n",
      " -2.67398834e-01  4.58133698e-01 -1.98623657e-01 -1.12272263e-01\n",
      " -2.81982422e-02  2.46477127e-01 -1.86302185e-01 -5.98373413e-02\n",
      " -1.40380859e-03 -2.21900940e-02  5.76171875e-02  1.71363831e-01\n",
      " -1.44706726e-01 -8.03146362e-02  1.34223938e-01 -9.12475586e-03\n",
      " -2.69809723e-01  1.98120117e-01  4.16221619e-02 -1.09939575e-02\n",
      " -9.86480713e-03 -1.61727905e-01  2.57110596e-01 -8.30993652e-02\n",
      " -1.11686707e-01  2.67250061e-01 -2.10617065e-01 -6.33239746e-03\n",
      "  5.01937866e-02  4.01763916e-02 -9.20047760e-02  1.07292175e-01\n",
      " -1.03170395e-01  3.15151215e-01 -2.89184570e-01 -1.57699585e-02\n",
      " -1.05993271e-01  5.89904785e-02  2.89184570e-01 -1.55754089e-01\n",
      " -1.70356750e-01  2.68943787e-01 -1.87469482e-01 -1.57741547e-01\n",
      "  1.96823120e-01 -4.27190927e+11 -1.97001455e+09  2.83712581e+10\n",
      "  2.71239139e+11 -4.95064741e+10 -1.11893412e+10 -1.54823228e+10\n",
      "  5.85713907e+09 -1.85291117e+10 -4.33853956e+09  1.21005908e+10\n",
      " -3.37618264e+09  2.28772571e+10  3.90379942e+10 -9.79740185e+09\n",
      "  1.08787699e+10 -3.84153279e+09  2.35042239e+09  1.85341990e+09\n",
      "  2.03648748e+10 -3.98877558e+10  1.69026433e+10  1.03440239e+10\n",
      " -1.58605861e+10 -4.80793857e+09 -4.56311341e+11  1.97409902e+09\n",
      "  7.25451776e+10  2.14375596e+11 -1.99519485e+10 -1.40080717e+10\n",
      " -1.07985144e+10  1.62727964e+10  5.12917874e+09  1.05677690e+10\n",
      " -3.17471685e+10  2.23173957e+10  3.09860899e+10 -9.64568494e+08\n",
      " -2.29528701e+10 -8.75628930e+09  3.96754080e+09 -1.36065135e+10\n",
      "  2.43546272e+09 -2.81185302e+10  4.79926694e+10 -9.52981965e+09\n",
      " -6.89412770e+09  1.51257615e+10  9.49066127e+09 -4.40680422e+11\n",
      "  1.06502761e+09  6.80941274e+10  2.58373938e+11 -8.15840927e+10\n",
      "  2.13614397e+10  1.73353937e+10 -7.89350400e+09  1.54513784e+10\n",
      " -3.19029566e+09  6.77370490e+08 -1.21921514e+09 -2.84821981e+10\n",
      " -4.21394344e+10  1.86993333e+10 -8.53938587e+09  8.34017709e+08\n",
      " -2.03547319e+09  1.50657143e+09 -1.67785999e+10  2.13875045e+10\n",
      " -7.42073579e+09 -8.06622949e+09  9.59572165e+09  3.98785873e+09\n",
      " -4.26120215e+11 -9.07029174e+08  4.60071676e+10  2.86805710e+11\n",
      " -9.63613555e+10  2.27708050e+10  1.49934895e+10 -1.31013327e+10\n",
      "  3.62223321e+09 -1.06434499e+10  2.26012502e+10 -1.40660043e+10\n",
      " -3.25366145e+10 -2.21381531e+10  2.52770675e+10  1.27814372e+09\n",
      " -3.07051908e+09  5.94299478e+09  1.21555002e+09  7.46310262e+09\n",
      " -2.25527081e+10  5.79549570e+09  5.52846287e+08 -5.89745216e+09\n",
      " -3.16144119e+09]\n"
     ]
    }
   ],
   "source": [
    "print(linear_reg_model.intercept_)\n",
    "print(linear_reg_model.coef_)"
   ]
  },
  {
   "cell_type": "code",
   "execution_count": 30,
   "metadata": {},
   "outputs": [],
   "source": [
    "Y_pred = linear_reg_model.predict(X_test)"
   ]
  },
  {
   "cell_type": "code",
   "execution_count": 31,
   "metadata": {},
   "outputs": [
    {
     "data": {
      "text/html": [
       "<div>\n",
       "<style scoped>\n",
       "    .dataframe tbody tr th:only-of-type {\n",
       "        vertical-align: middle;\n",
       "    }\n",
       "\n",
       "    .dataframe tbody tr th {\n",
       "        vertical-align: top;\n",
       "    }\n",
       "\n",
       "    .dataframe thead th {\n",
       "        text-align: right;\n",
       "    }\n",
       "</style>\n",
       "<table border=\"1\" class=\"dataframe\">\n",
       "  <thead>\n",
       "    <tr style=\"text-align: right;\">\n",
       "      <th></th>\n",
       "      <th>Y_pred</th>\n",
       "      <th>Y_test</th>\n",
       "    </tr>\n",
       "  </thead>\n",
       "  <tbody>\n",
       "    <tr>\n",
       "      <th>0</th>\n",
       "      <td>-0.211562</td>\n",
       "      <td>0.314</td>\n",
       "    </tr>\n",
       "    <tr>\n",
       "      <th>1</th>\n",
       "      <td>-0.095272</td>\n",
       "      <td>0.231</td>\n",
       "    </tr>\n",
       "    <tr>\n",
       "      <th>2</th>\n",
       "      <td>0.008874</td>\n",
       "      <td>0.339</td>\n",
       "    </tr>\n",
       "    <tr>\n",
       "      <th>3</th>\n",
       "      <td>0.117963</td>\n",
       "      <td>0.041</td>\n",
       "    </tr>\n",
       "    <tr>\n",
       "      <th>4</th>\n",
       "      <td>0.182314</td>\n",
       "      <td>-0.532</td>\n",
       "    </tr>\n",
       "    <tr>\n",
       "      <th>5</th>\n",
       "      <td>-0.183560</td>\n",
       "      <td>-1.227</td>\n",
       "    </tr>\n",
       "    <tr>\n",
       "      <th>6</th>\n",
       "      <td>0.070664</td>\n",
       "      <td>-0.164</td>\n",
       "    </tr>\n",
       "    <tr>\n",
       "      <th>7</th>\n",
       "      <td>-0.124872</td>\n",
       "      <td>-0.217</td>\n",
       "    </tr>\n",
       "    <tr>\n",
       "      <th>8</th>\n",
       "      <td>-0.328494</td>\n",
       "      <td>-0.465</td>\n",
       "    </tr>\n",
       "    <tr>\n",
       "      <th>9</th>\n",
       "      <td>0.027366</td>\n",
       "      <td>-0.112</td>\n",
       "    </tr>\n",
       "    <tr>\n",
       "      <th>10</th>\n",
       "      <td>0.065489</td>\n",
       "      <td>0.912</td>\n",
       "    </tr>\n",
       "    <tr>\n",
       "      <th>11</th>\n",
       "      <td>-0.179579</td>\n",
       "      <td>-0.300</td>\n",
       "    </tr>\n",
       "    <tr>\n",
       "      <th>12</th>\n",
       "      <td>0.266642</td>\n",
       "      <td>-0.267</td>\n",
       "    </tr>\n",
       "    <tr>\n",
       "      <th>13</th>\n",
       "      <td>0.187731</td>\n",
       "      <td>0.145</td>\n",
       "    </tr>\n",
       "    <tr>\n",
       "      <th>14</th>\n",
       "      <td>-0.117669</td>\n",
       "      <td>-0.645</td>\n",
       "    </tr>\n",
       "    <tr>\n",
       "      <th>15</th>\n",
       "      <td>-0.085905</td>\n",
       "      <td>-1.095</td>\n",
       "    </tr>\n",
       "    <tr>\n",
       "      <th>16</th>\n",
       "      <td>0.451251</td>\n",
       "      <td>0.465</td>\n",
       "    </tr>\n",
       "    <tr>\n",
       "      <th>17</th>\n",
       "      <td>0.105997</td>\n",
       "      <td>-0.942</td>\n",
       "    </tr>\n",
       "    <tr>\n",
       "      <th>18</th>\n",
       "      <td>-0.025281</td>\n",
       "      <td>0.282</td>\n",
       "    </tr>\n",
       "    <tr>\n",
       "      <th>19</th>\n",
       "      <td>0.046172</td>\n",
       "      <td>-0.229</td>\n",
       "    </tr>\n",
       "    <tr>\n",
       "      <th>20</th>\n",
       "      <td>0.024725</td>\n",
       "      <td>0.432</td>\n",
       "    </tr>\n",
       "    <tr>\n",
       "      <th>21</th>\n",
       "      <td>-0.065669</td>\n",
       "      <td>0.258</td>\n",
       "    </tr>\n",
       "    <tr>\n",
       "      <th>22</th>\n",
       "      <td>-0.015325</td>\n",
       "      <td>0.650</td>\n",
       "    </tr>\n",
       "    <tr>\n",
       "      <th>23</th>\n",
       "      <td>-0.172608</td>\n",
       "      <td>-0.972</td>\n",
       "    </tr>\n",
       "    <tr>\n",
       "      <th>24</th>\n",
       "      <td>-0.056981</td>\n",
       "      <td>0.572</td>\n",
       "    </tr>\n",
       "    <tr>\n",
       "      <th>25</th>\n",
       "      <td>-0.027950</td>\n",
       "      <td>-0.331</td>\n",
       "    </tr>\n",
       "    <tr>\n",
       "      <th>26</th>\n",
       "      <td>0.099001</td>\n",
       "      <td>-0.614</td>\n",
       "    </tr>\n",
       "    <tr>\n",
       "      <th>27</th>\n",
       "      <td>0.175267</td>\n",
       "      <td>0.062</td>\n",
       "    </tr>\n",
       "    <tr>\n",
       "      <th>28</th>\n",
       "      <td>0.043177</td>\n",
       "      <td>-0.103</td>\n",
       "    </tr>\n",
       "    <tr>\n",
       "      <th>29</th>\n",
       "      <td>-0.050510</td>\n",
       "      <td>-0.890</td>\n",
       "    </tr>\n",
       "    <tr>\n",
       "      <th>...</th>\n",
       "      <td>...</td>\n",
       "      <td>...</td>\n",
       "    </tr>\n",
       "    <tr>\n",
       "      <th>264</th>\n",
       "      <td>0.149300</td>\n",
       "      <td>0.281</td>\n",
       "    </tr>\n",
       "    <tr>\n",
       "      <th>265</th>\n",
       "      <td>0.454210</td>\n",
       "      <td>0.119</td>\n",
       "    </tr>\n",
       "    <tr>\n",
       "      <th>266</th>\n",
       "      <td>-0.186818</td>\n",
       "      <td>-0.397</td>\n",
       "    </tr>\n",
       "    <tr>\n",
       "      <th>267</th>\n",
       "      <td>-0.260753</td>\n",
       "      <td>0.492</td>\n",
       "    </tr>\n",
       "    <tr>\n",
       "      <th>268</th>\n",
       "      <td>0.051902</td>\n",
       "      <td>0.468</td>\n",
       "    </tr>\n",
       "    <tr>\n",
       "      <th>269</th>\n",
       "      <td>0.728085</td>\n",
       "      <td>0.078</td>\n",
       "    </tr>\n",
       "    <tr>\n",
       "      <th>270</th>\n",
       "      <td>-0.029030</td>\n",
       "      <td>0.549</td>\n",
       "    </tr>\n",
       "    <tr>\n",
       "      <th>271</th>\n",
       "      <td>0.347368</td>\n",
       "      <td>-0.106</td>\n",
       "    </tr>\n",
       "    <tr>\n",
       "      <th>272</th>\n",
       "      <td>0.270580</td>\n",
       "      <td>-0.303</td>\n",
       "    </tr>\n",
       "    <tr>\n",
       "      <th>273</th>\n",
       "      <td>-0.219727</td>\n",
       "      <td>0.224</td>\n",
       "    </tr>\n",
       "    <tr>\n",
       "      <th>274</th>\n",
       "      <td>0.120445</td>\n",
       "      <td>0.016</td>\n",
       "    </tr>\n",
       "    <tr>\n",
       "      <th>275</th>\n",
       "      <td>0.235776</td>\n",
       "      <td>-0.062</td>\n",
       "    </tr>\n",
       "    <tr>\n",
       "      <th>276</th>\n",
       "      <td>0.366916</td>\n",
       "      <td>-0.196</td>\n",
       "    </tr>\n",
       "    <tr>\n",
       "      <th>277</th>\n",
       "      <td>-0.393115</td>\n",
       "      <td>0.045</td>\n",
       "    </tr>\n",
       "    <tr>\n",
       "      <th>278</th>\n",
       "      <td>-0.186212</td>\n",
       "      <td>-0.303</td>\n",
       "    </tr>\n",
       "    <tr>\n",
       "      <th>279</th>\n",
       "      <td>-0.306317</td>\n",
       "      <td>-0.226</td>\n",
       "    </tr>\n",
       "    <tr>\n",
       "      <th>280</th>\n",
       "      <td>-0.266361</td>\n",
       "      <td>0.669</td>\n",
       "    </tr>\n",
       "    <tr>\n",
       "      <th>281</th>\n",
       "      <td>-0.245757</td>\n",
       "      <td>0.408</td>\n",
       "    </tr>\n",
       "    <tr>\n",
       "      <th>282</th>\n",
       "      <td>-0.486917</td>\n",
       "      <td>0.039</td>\n",
       "    </tr>\n",
       "    <tr>\n",
       "      <th>283</th>\n",
       "      <td>-0.035335</td>\n",
       "      <td>-0.016</td>\n",
       "    </tr>\n",
       "    <tr>\n",
       "      <th>284</th>\n",
       "      <td>-0.273228</td>\n",
       "      <td>-0.162</td>\n",
       "    </tr>\n",
       "    <tr>\n",
       "      <th>285</th>\n",
       "      <td>-0.147422</td>\n",
       "      <td>0.006</td>\n",
       "    </tr>\n",
       "    <tr>\n",
       "      <th>286</th>\n",
       "      <td>-0.587624</td>\n",
       "      <td>0.609</td>\n",
       "    </tr>\n",
       "    <tr>\n",
       "      <th>287</th>\n",
       "      <td>-0.430348</td>\n",
       "      <td>0.077</td>\n",
       "    </tr>\n",
       "    <tr>\n",
       "      <th>288</th>\n",
       "      <td>0.261819</td>\n",
       "      <td>0.569</td>\n",
       "    </tr>\n",
       "    <tr>\n",
       "      <th>289</th>\n",
       "      <td>-0.092280</td>\n",
       "      <td>-0.546</td>\n",
       "    </tr>\n",
       "    <tr>\n",
       "      <th>290</th>\n",
       "      <td>-0.627561</td>\n",
       "      <td>-0.082</td>\n",
       "    </tr>\n",
       "    <tr>\n",
       "      <th>291</th>\n",
       "      <td>-0.986137</td>\n",
       "      <td>0.208</td>\n",
       "    </tr>\n",
       "    <tr>\n",
       "      <th>292</th>\n",
       "      <td>0.231753</td>\n",
       "      <td>-0.030</td>\n",
       "    </tr>\n",
       "    <tr>\n",
       "      <th>293</th>\n",
       "      <td>-0.407356</td>\n",
       "      <td>0.218</td>\n",
       "    </tr>\n",
       "  </tbody>\n",
       "</table>\n",
       "<p>294 rows × 2 columns</p>\n",
       "</div>"
      ],
      "text/plain": [
       "       Y_pred  Y_test\n",
       "0   -0.211562   0.314\n",
       "1   -0.095272   0.231\n",
       "2    0.008874   0.339\n",
       "3    0.117963   0.041\n",
       "4    0.182314  -0.532\n",
       "5   -0.183560  -1.227\n",
       "6    0.070664  -0.164\n",
       "7   -0.124872  -0.217\n",
       "8   -0.328494  -0.465\n",
       "9    0.027366  -0.112\n",
       "10   0.065489   0.912\n",
       "11  -0.179579  -0.300\n",
       "12   0.266642  -0.267\n",
       "13   0.187731   0.145\n",
       "14  -0.117669  -0.645\n",
       "15  -0.085905  -1.095\n",
       "16   0.451251   0.465\n",
       "17   0.105997  -0.942\n",
       "18  -0.025281   0.282\n",
       "19   0.046172  -0.229\n",
       "20   0.024725   0.432\n",
       "21  -0.065669   0.258\n",
       "22  -0.015325   0.650\n",
       "23  -0.172608  -0.972\n",
       "24  -0.056981   0.572\n",
       "25  -0.027950  -0.331\n",
       "26   0.099001  -0.614\n",
       "27   0.175267   0.062\n",
       "28   0.043177  -0.103\n",
       "29  -0.050510  -0.890\n",
       "..        ...     ...\n",
       "264  0.149300   0.281\n",
       "265  0.454210   0.119\n",
       "266 -0.186818  -0.397\n",
       "267 -0.260753   0.492\n",
       "268  0.051902   0.468\n",
       "269  0.728085   0.078\n",
       "270 -0.029030   0.549\n",
       "271  0.347368  -0.106\n",
       "272  0.270580  -0.303\n",
       "273 -0.219727   0.224\n",
       "274  0.120445   0.016\n",
       "275  0.235776  -0.062\n",
       "276  0.366916  -0.196\n",
       "277 -0.393115   0.045\n",
       "278 -0.186212  -0.303\n",
       "279 -0.306317  -0.226\n",
       "280 -0.266361   0.669\n",
       "281 -0.245757   0.408\n",
       "282 -0.486917   0.039\n",
       "283 -0.035335  -0.016\n",
       "284 -0.273228  -0.162\n",
       "285 -0.147422   0.006\n",
       "286 -0.587624   0.609\n",
       "287 -0.430348   0.077\n",
       "288  0.261819   0.569\n",
       "289 -0.092280  -0.546\n",
       "290 -0.627561  -0.082\n",
       "291 -0.986137   0.208\n",
       "292  0.231753  -0.030\n",
       "293 -0.407356   0.218\n",
       "\n",
       "[294 rows x 2 columns]"
      ]
     },
     "execution_count": 31,
     "metadata": {},
     "output_type": "execute_result"
    }
   ],
   "source": [
    "result = pd.DataFrame(Y_pred)\n",
    "result.columns = ['Y_pred']\n",
    "result['Y_test'] = Y_test\n",
    "result"
   ]
  },
  {
   "cell_type": "code",
   "execution_count": 32,
   "metadata": {},
   "outputs": [
    {
     "data": {
      "text/plain": [
       "<matplotlib.axes._subplots.AxesSubplot at 0x7f8fc46810f0>"
      ]
     },
     "execution_count": 32,
     "metadata": {},
     "output_type": "execute_result"
    },
    {
     "data": {
      "image/png": "[encoded data removed]",
      "text/plain": [
       "<Figure size 432x288 with 1 Axes>"
      ]
     },
     "metadata": {},
     "output_type": "display_data"
    }
   ],
   "source": [
    "sns.set_style('darkgrid')\n",
    "sns.regplot(x = 'Y_pred', y = 'Y_test', data = result)"
   ]
  },
  {
   "cell_type": "code",
   "execution_count": 33,
   "metadata": {},
   "outputs": [
    {
     "name": "stdout",
     "output_type": "stream",
     "text": [
      "pred_days: 294 correct_days: 147\n",
      "percent: 50.0\n"
     ]
    }
   ],
   "source": [
    "correct_num = 0\n",
    "for i in range(0, len(Y_test)):\n",
    "    if Y_pred[i] * Y_test[i] >= 0:\n",
    "        correct_num += 1\n",
    "        \n",
    "print(\"pred_days: \" + str(len(Y_pred)) + \" correct_days: \" + str(correct_num))\n",
    "print(\"percent: \" + str(correct_num / len(Y_pred) * 100))"
   ]
  },
  {
   "cell_type": "code",
   "execution_count": null,
   "metadata": {},
   "outputs": [],
   "source": [
    "# "
   ]
  }
 ],
 "metadata": {
  "kernelspec": {
   "display_name": "Python 3",
   "language": "python",
   "name": "python3"
  },
  "language_info": {
   "codemirror_mode": {
    "name": "ipython",
    "version": 3
   },
   "file_extension": ".py",
   "mimetype": "text/x-python",
   "name": "python",
   "nbconvert_exporter": "python",
   "pygments_lexer": "ipython3",
   "version": "3.6.6"
  }
 },
 "nbformat": 4,
 "nbformat_minor": 2
}
